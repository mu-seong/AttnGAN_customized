{
 "cells": [
  {
   "cell_type": "code",
   "execution_count": 1,
   "metadata": {},
   "outputs": [],
   "source": [
    "from PIL import Image\n",
    "import pickle\n",
    "from tqdm import tqdm"
   ]
  },
  {
   "cell_type": "code",
   "execution_count": 2,
   "metadata": {},
   "outputs": [],
   "source": [
    "with open('D:/Jupyter/meseong/val_fid.pickle', 'rb') as f:\n",
    "    val_fid = pickle.load(f)"
   ]
  },
  {
   "cell_type": "code",
   "execution_count": null,
   "metadata": {},
   "outputs": [],
   "source": [
    "for i in range(0, 40480):\n",
    "    image = Image.open('D:/Jupyter/meseong/Fréchet Inception Distance/fid_score/real/' + val_fid[i] + '.jpg')\n",
    "    resize_image = image.resize((256, 256))\n",
    "    resize_image.save('D:/Jupyter/meseong/Fréchet Inception Distance/fid_score/real_256/' + val_fid[i] + '.jpg')\n",
    "    print('resized', i, 'image')\n",
    "\n",
    "print('The End')"
   ]
  },
  {
   "cell_type": "code",
   "execution_count": 3,
   "metadata": {},
   "outputs": [
    {
     "name": "stderr",
     "output_type": "stream",
     "text": [
      "100%|████████████████████████████████████████████████████████████████████████████| 40480/40480 [11:03<00:00, 60.99it/s]"
     ]
    },
    {
     "name": "stdout",
     "output_type": "stream",
     "text": [
      "The End\n"
     ]
    },
    {
     "name": "stderr",
     "output_type": "stream",
     "text": [
      "\n"
     ]
    }
   ],
   "source": [
    "for i in tqdm(range(0, 40480)):\n",
    "    image = Image.open('D:/Jupyter/meseong/Fréchet Inception Distance/fid_score/real/' + val_fid[i] + '.jpg')\n",
    "    resize_image = image.resize((299, 299))\n",
    "    resize_image.save('D:/Jupyter/meseong/Fréchet Inception Distance/fid_score/real_299/' + val_fid[i] + '.jpg')\n",
    "\n",
    "print('The End')"
   ]
  },
  {
   "cell_type": "code",
   "execution_count": 4,
   "metadata": {},
   "outputs": [
    {
     "name": "stderr",
     "output_type": "stream",
     "text": [
      "100%|███████████████████████████████████████████████████████████████████████████| 40480/40480 [02:49<00:00, 238.39it/s]"
     ]
    },
    {
     "name": "stdout",
     "output_type": "stream",
     "text": [
      "The End\n"
     ]
    },
    {
     "name": "stderr",
     "output_type": "stream",
     "text": [
      "\n"
     ]
    }
   ],
   "source": [
    "for i in tqdm(range(0, 40480)):\n",
    "    image = Image.open('D:/Jupyter/meseong/Fréchet Inception Distance/fid_score/real_256/' + val_fid[i] + '.jpg')\n",
    "    convert_image = image.convert('RGB')\n",
    "    convert_image.save('D:/Jupyter/meseong/Fréchet Inception Distance/fid_score/real_256_rgb/' + val_fid[i] + '.jpg')\n",
    "\n",
    "print('The End')"
   ]
  },
  {
   "cell_type": "code",
   "execution_count": null,
   "metadata": {},
   "outputs": [],
   "source": []
  }
 ],
 "metadata": {
  "kernelspec": {
   "display_name": "Environment (conda_torchgan)",
   "language": "python",
   "name": "conda_torchgan"
  },
  "language_info": {
   "codemirror_mode": {
    "name": "ipython",
    "version": 3
   },
   "file_extension": ".py",
   "mimetype": "text/x-python",
   "name": "python",
   "nbconvert_exporter": "python",
   "pygments_lexer": "ipython3",
   "version": "3.6.10"
  }
 },
 "nbformat": 4,
 "nbformat_minor": 2
}
